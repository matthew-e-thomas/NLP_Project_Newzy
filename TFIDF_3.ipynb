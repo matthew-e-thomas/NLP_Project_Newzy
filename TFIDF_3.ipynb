{
 "cells": [
  {
   "cell_type": "code",
   "execution_count": 78,
   "metadata": {},
   "outputs": [],
   "source": [
    "import pandas as pd\n",
    "import numpy as np"
   ]
  },
  {
   "cell_type": "code",
   "execution_count": 2,
   "metadata": {},
   "outputs": [],
   "source": [
    "OHCO = ['doc_source','doc_id', 'sent_num', 'token_num']\n",
    "articles = OHCO[:2]\n",
    "sentences = OHCO[:3]"
   ]
  },
  {
   "cell_type": "code",
   "execution_count": 70,
   "metadata": {},
   "outputs": [
    {
     "data": {
      "text/html": [
       "<div>\n",
       "<style scoped>\n",
       "    .dataframe tbody tr th:only-of-type {\n",
       "        vertical-align: middle;\n",
       "    }\n",
       "\n",
       "    .dataframe tbody tr th {\n",
       "        vertical-align: top;\n",
       "    }\n",
       "\n",
       "    .dataframe thead th {\n",
       "        text-align: right;\n",
       "    }\n",
       "</style>\n",
       "<table border=\"1\" class=\"dataframe\">\n",
       "  <thead>\n",
       "    <tr style=\"text-align: right;\">\n",
       "      <th></th>\n",
       "      <th></th>\n",
       "      <th></th>\n",
       "      <th></th>\n",
       "      <th>token</th>\n",
       "      <th>pos</th>\n",
       "      <th>term_str</th>\n",
       "      <th>term_id</th>\n",
       "    </tr>\n",
       "    <tr>\n",
       "      <th>doc_source</th>\n",
       "      <th>doc_id</th>\n",
       "      <th>sent_num</th>\n",
       "      <th>token_num</th>\n",
       "      <th></th>\n",
       "      <th></th>\n",
       "      <th></th>\n",
       "      <th></th>\n",
       "    </tr>\n",
       "  </thead>\n",
       "  <tbody>\n",
       "    <tr>\n",
       "      <th rowspan=\"5\" valign=\"top\">PowerLine</th>\n",
       "      <th rowspan=\"5\" valign=\"top\">48</th>\n",
       "      <th rowspan=\"5\" valign=\"top\">1</th>\n",
       "      <th>1</th>\n",
       "      <td>I’ve</td>\n",
       "      <td>VBN</td>\n",
       "      <td>ive</td>\n",
       "      <td>85795</td>\n",
       "    </tr>\n",
       "    <tr>\n",
       "      <th>2</th>\n",
       "      <td>been</td>\n",
       "      <td>VBG</td>\n",
       "      <td>been</td>\n",
       "      <td>17768</td>\n",
       "    </tr>\n",
       "    <tr>\n",
       "      <th>3</th>\n",
       "      <td>falling</td>\n",
       "      <td>IN</td>\n",
       "      <td>falling</td>\n",
       "      <td>61167</td>\n",
       "    </tr>\n",
       "    <tr>\n",
       "      <th>4</th>\n",
       "      <td>behind</td>\n",
       "      <td>IN</td>\n",
       "      <td>behind</td>\n",
       "      <td>18021</td>\n",
       "    </tr>\n",
       "    <tr>\n",
       "      <th>5</th>\n",
       "      <td>on</td>\n",
       "      <td>JJ</td>\n",
       "      <td>on</td>\n",
       "      <td>114185</td>\n",
       "    </tr>\n",
       "  </tbody>\n",
       "</table>\n",
       "</div>"
      ],
      "text/plain": [
       "                                        token  pos term_str  term_id\n",
       "doc_source doc_id sent_num token_num                                \n",
       "PowerLine  48     1        1             I’ve  VBN      ive    85795\n",
       "                           2             been  VBG     been    17768\n",
       "                           3          falling   IN  falling    61167\n",
       "                           4           behind   IN   behind    18021\n",
       "                           5               on   JJ       on   114185"
      ]
     },
     "execution_count": 70,
     "metadata": {},
     "output_type": "execute_result"
    }
   ],
   "source": [
    "TOKEN = pd.read_csv(\"TOKEN.csv\").set_index(OHCO)\n",
    "VOCAB = pd.read_csv(\"VOCAB.csv\").set_index('term_id')\n",
    "TOKEN.head()"
   ]
  },
  {
   "cell_type": "code",
   "execution_count": 30,
   "metadata": {},
   "outputs": [
    {
     "data": {
      "text/plain": [
       "19585678"
      ]
     },
     "execution_count": 30,
     "metadata": {},
     "output_type": "execute_result"
    }
   ],
   "source": [
    "VOCAB = VOCAB[~VOCAB.term_str.isna()]\n",
    "TOKEN = TOKEN[~TOKEN.term_str.isna()]"
   ]
  },
  {
   "cell_type": "code",
   "execution_count": 71,
   "metadata": {},
   "outputs": [
    {
     "data": {
      "text/plain": [
       "count    1.799400e+05\n",
       "mean     1.097648e+02\n",
       "std      4.003801e+03\n",
       "min      1.000000e+00\n",
       "25%      1.000000e+00\n",
       "50%      1.000000e+00\n",
       "75%      6.000000e+00\n",
       "max      1.103705e+06\n",
       "Name: n, dtype: float64"
      ]
     },
     "execution_count": 71,
     "metadata": {},
     "output_type": "execute_result"
    }
   ],
   "source": [
    "VOCAB.n.describe()"
   ]
  },
  {
   "cell_type": "code",
   "execution_count": 72,
   "metadata": {},
   "outputs": [],
   "source": [
    "VSHORT = VOCAB[VOCAB.n > 1]"
   ]
  },
  {
   "cell_type": "code",
   "execution_count": 73,
   "metadata": {},
   "outputs": [
    {
     "data": {
      "text/plain": [
       "85698"
      ]
     },
     "execution_count": 73,
     "metadata": {},
     "output_type": "execute_result"
    }
   ],
   "source": [
    "len(VSHORT)\n"
   ]
  },
  {
   "cell_type": "code",
   "execution_count": 75,
   "metadata": {},
   "outputs": [
    {
     "data": {
      "text/html": [
       "<div>\n",
       "<style scoped>\n",
       "    .dataframe tbody tr th:only-of-type {\n",
       "        vertical-align: middle;\n",
       "    }\n",
       "\n",
       "    .dataframe tbody tr th {\n",
       "        vertical-align: top;\n",
       "    }\n",
       "\n",
       "    .dataframe thead th {\n",
       "        text-align: right;\n",
       "    }\n",
       "</style>\n",
       "<table border=\"1\" class=\"dataframe\">\n",
       "  <thead>\n",
       "    <tr style=\"text-align: right;\">\n",
       "      <th></th>\n",
       "      <th>term_rank</th>\n",
       "      <th>term_str</th>\n",
       "      <th>n</th>\n",
       "      <th>stop</th>\n",
       "      <th>p_stem</th>\n",
       "      <th>pos_max</th>\n",
       "    </tr>\n",
       "    <tr>\n",
       "      <th>term_id</th>\n",
       "      <th></th>\n",
       "      <th></th>\n",
       "      <th></th>\n",
       "      <th></th>\n",
       "      <th></th>\n",
       "      <th></th>\n",
       "    </tr>\n",
       "  </thead>\n",
       "  <tbody>\n",
       "    <tr>\n",
       "      <th>158064</th>\n",
       "      <td>1</td>\n",
       "      <td>the</td>\n",
       "      <td>1103705</td>\n",
       "      <td>1</td>\n",
       "      <td>the</td>\n",
       "      <td>NN</td>\n",
       "    </tr>\n",
       "    <tr>\n",
       "      <th>160412</th>\n",
       "      <td>2</td>\n",
       "      <td>to</td>\n",
       "      <td>558006</td>\n",
       "      <td>1</td>\n",
       "      <td>to</td>\n",
       "      <td>VB</td>\n",
       "    </tr>\n",
       "    <tr>\n",
       "      <th>113256</th>\n",
       "      <td>3</td>\n",
       "      <td>of</td>\n",
       "      <td>509160</td>\n",
       "      <td>1</td>\n",
       "      <td>of</td>\n",
       "      <td>DT</td>\n",
       "    </tr>\n",
       "    <tr>\n",
       "      <th>10479</th>\n",
       "      <td>4</td>\n",
       "      <td>and</td>\n",
       "      <td>451366</td>\n",
       "      <td>1</td>\n",
       "      <td>and</td>\n",
       "      <td>NNP</td>\n",
       "    </tr>\n",
       "    <tr>\n",
       "      <th>4833</th>\n",
       "      <td>5</td>\n",
       "      <td>a</td>\n",
       "      <td>439586</td>\n",
       "      <td>1</td>\n",
       "      <td>a</td>\n",
       "      <td>NN</td>\n",
       "    </tr>\n",
       "    <tr>\n",
       "      <th>...</th>\n",
       "      <td>...</td>\n",
       "      <td>...</td>\n",
       "      <td>...</td>\n",
       "      <td>...</td>\n",
       "      <td>...</td>\n",
       "      <td>...</td>\n",
       "    </tr>\n",
       "    <tr>\n",
       "      <th>7648</th>\n",
       "      <td>85694</td>\n",
       "      <td>ageila</td>\n",
       "      <td>2</td>\n",
       "      <td>0</td>\n",
       "      <td>ageila</td>\n",
       "      <td>CC</td>\n",
       "    </tr>\n",
       "    <tr>\n",
       "      <th>179165</th>\n",
       "      <td>85695</td>\n",
       "      <td>zolfaghar</td>\n",
       "      <td>2</td>\n",
       "      <td>0</td>\n",
       "      <td>zolfaghar</td>\n",
       "      <td>IN</td>\n",
       "    </tr>\n",
       "    <tr>\n",
       "      <th>9106</th>\n",
       "      <td>85696</td>\n",
       "      <td>alliesincluding</td>\n",
       "      <td>2</td>\n",
       "      <td>0</td>\n",
       "      <td>alliesinclud</td>\n",
       "      <td>NNS</td>\n",
       "    </tr>\n",
       "    <tr>\n",
       "      <th>59735</th>\n",
       "      <td>85697</td>\n",
       "      <td>exercisehe</td>\n",
       "      <td>2</td>\n",
       "      <td>0</td>\n",
       "      <td>exerciseh</td>\n",
       "      <td>VBZ</td>\n",
       "    </tr>\n",
       "    <tr>\n",
       "      <th>145620</th>\n",
       "      <td>85698</td>\n",
       "      <td>signor</td>\n",
       "      <td>2</td>\n",
       "      <td>0</td>\n",
       "      <td>signor</td>\n",
       "      <td>NNP</td>\n",
       "    </tr>\n",
       "  </tbody>\n",
       "</table>\n",
       "<p>85698 rows × 6 columns</p>\n",
       "</div>"
      ],
      "text/plain": [
       "         term_rank         term_str        n  stop        p_stem pos_max\n",
       "term_id                                                                 \n",
       "158064           1              the  1103705     1           the      NN\n",
       "160412           2               to   558006     1            to      VB\n",
       "113256           3               of   509160     1            of      DT\n",
       "10479            4              and   451366     1           and     NNP\n",
       "4833             5                a   439586     1             a      NN\n",
       "...            ...              ...      ...   ...           ...     ...\n",
       "7648         85694           ageila        2     0        ageila      CC\n",
       "179165       85695        zolfaghar        2     0     zolfaghar      IN\n",
       "9106         85696  alliesincluding        2     0  alliesinclud     NNS\n",
       "59735        85697       exercisehe        2     0     exerciseh     VBZ\n",
       "145620       85698           signor        2     0        signor     NNP\n",
       "\n",
       "[85698 rows x 6 columns]"
      ]
     },
     "execution_count": 75,
     "metadata": {},
     "output_type": "execute_result"
    }
   ],
   "source": [
    "VSHORT"
   ]
  },
  {
   "cell_type": "code",
   "execution_count": 74,
   "metadata": {},
   "outputs": [
    {
     "data": {
      "text/plain": [
       "19751084"
      ]
     },
     "execution_count": 74,
     "metadata": {},
     "output_type": "execute_result"
    }
   ],
   "source": [
    "len(TOKEN)"
   ]
  },
  {
   "cell_type": "code",
   "execution_count": 76,
   "metadata": {},
   "outputs": [],
   "source": [
    "TOKEN = TOKEN[TOKEN.term_id.isin(VSHORT.index)]"
   ]
  },
  {
   "cell_type": "code",
   "execution_count": 77,
   "metadata": {},
   "outputs": [
    {
     "data": {
      "text/plain": [
       "19656842"
      ]
     },
     "execution_count": 77,
     "metadata": {},
     "output_type": "execute_result"
    }
   ],
   "source": [
    "len(TOKEN)"
   ]
  },
  {
   "cell_type": "code",
   "execution_count": 59,
   "metadata": {},
   "outputs": [],
   "source": [
    "def createTFIDF(TOKEN, bag=articles, count_method='c', tf_method='raw', idf_method='standard'):\n",
    "    '''Creates TFIDF table using specified method'''\n",
    "    BOW = TOKEN.groupby(bag+['term_id']).term_id.count()\\\n",
    "    .to_frame().rename(columns={'term_id':'n'})\n",
    "    BOW['c'] = BOW.n.astype('bool').astype('int')\n",
    "    DTCM = BOW[count_method].unstack().fillna(0).astype('int')\n",
    "    \n",
    "    print('TF method:', tf_method)\n",
    "    if tf_method == 'sum':\n",
    "        TF = DTCM.T / DTCM.T.sum()\n",
    "    elif tf_method == 'max':\n",
    "        TF = DTCM.T / DTCM.T.max()\n",
    "    elif tf_method == 'log':\n",
    "        TF = np.log10(1 + DTCM.T)\n",
    "    elif tf_method == 'raw':\n",
    "        TF = DTCM.T\n",
    "    elif tf_method == 'double_norm':\n",
    "        TF = tf_norm_k + (1 - tf_norm_k) * TF[TF > 0] \n",
    "    elif tf_method == 'binary':\n",
    "        TF = DTCM.T.astype('bool').astype('int')\n",
    "        \n",
    "    TF = TF.T\n",
    "    DF = DTCM[DTCM > 0].count()\n",
    "    N = DTCM.shape[0]\n",
    "    \n",
    "    print('IDF method:', idf_method)\n",
    "    if idf_method == 'standard':\n",
    "        IDF = np.log10(N / DF)\n",
    "    elif idf_method == 'max':\n",
    "        IDF = np.log10(DF.max() / DF) \n",
    "    elif idf_method == 'smooth':\n",
    "        IDF = np.log10(N / (1 + DF)) + 1 \n",
    "    elif idf_method == 'prob':  #Probabilistic method as described by wikipedia\n",
    "        IDF = np.log10((N - DF) / DF)\n",
    "    \n",
    "    TFIDF = TF * IDF\n",
    "    return TFIDF"
   ]
  },
  {
   "cell_type": "markdown",
   "metadata": {},
   "source": [
    "#### Generate a few TFIDF tables using different methods to pick one"
   ]
  },
  {
   "cell_type": "code",
   "execution_count": null,
   "metadata": {},
   "outputs": [
    {
     "name": "stdout",
     "output_type": "stream",
     "text": [
      "TF method: raw\n"
     ]
    }
   ],
   "source": [
    "createTFIDF(TOKEN)"
   ]
  },
  {
   "cell_type": "code",
   "execution_count": null,
   "metadata": {},
   "outputs": [],
   "source": []
  }
 ],
 "metadata": {
  "kernelspec": {
   "display_name": "Python 3",
   "language": "python",
   "name": "python3"
  },
  "language_info": {
   "codemirror_mode": {
    "name": "ipython",
    "version": 3
   },
   "file_extension": ".py",
   "mimetype": "text/x-python",
   "name": "python",
   "nbconvert_exporter": "python",
   "pygments_lexer": "ipython3",
   "version": "3.7.6"
  }
 },
 "nbformat": 4,
 "nbformat_minor": 4
}
