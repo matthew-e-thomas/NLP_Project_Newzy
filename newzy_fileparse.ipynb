{
 "cells": [
  {
   "cell_type": "code",
   "execution_count": 1,
   "metadata": {},
   "outputs": [],
   "source": [
    "import pandas as pd\n",
    "import requests\n",
    "from bs4 import BeautifulSoup\n",
    "import re"
   ]
  },
  {
   "cell_type": "code",
   "execution_count": 52,
   "metadata": {},
   "outputs": [
    {
     "name": "stderr",
     "output_type": "stream",
     "text": [
      "/Users/matthewthomas/anaconda3/lib/python3.7/site-packages/numpy/lib/arraysetops.py:569: FutureWarning: elementwise comparison failed; returning scalar instead, but in the future will perform elementwise comparison\n",
      "  mask |= (ar1 == a)\n"
     ]
    }
   ],
   "source": [
    "newzy = pd.read_csv('../FinalProject/newzy.csv', sep='|', index_col='doc_id')"
   ]
  },
  {
   "cell_type": "code",
   "execution_count": 3,
   "metadata": {},
   "outputs": [],
   "source": [
    "articles = pd.read_csv('../FinalProject/articles.csv', index_col=0)"
   ]
  },
  {
   "cell_type": "code",
   "execution_count": 4,
   "metadata": {},
   "outputs": [],
   "source": [
    "articles = articles['0'].to_list()"
   ]
  },
  {
   "cell_type": "code",
   "execution_count": 19,
   "metadata": {},
   "outputs": [
    {
     "data": {
      "text/plain": [
       "array(['Google News', 'PowerLine', 'Reuters', 'Guardian', 'Daily Kos',\n",
       "       'Drudge Report', 'Real Clear Politics', 'NPR', 'Fox',\n",
       "       'New York Times', 'Breitbart', 'CNN', 'US News', 'UPI Latest',\n",
       "       'Politico Magazine', nan], dtype=object)"
      ]
     },
     "execution_count": 19,
     "metadata": {},
     "output_type": "execute_result"
    }
   ],
   "source": [
    "newzy.doc_source.unique()"
   ]
  },
  {
   "cell_type": "code",
   "execution_count": 53,
   "metadata": {},
   "outputs": [],
   "source": [
    "filters =  ['Powerline', 'Daily Kos',\\\n",
    "            'Breitbart', 'Politico Magazine']"
   ]
  },
  {
   "cell_type": "code",
   "execution_count": 54,
   "metadata": {},
   "outputs": [],
   "source": [
    "newzy = newzy[newzy.doc_source.isin(filters)]"
   ]
  },
  {
   "cell_type": "code",
   "execution_count": 55,
   "metadata": {},
   "outputs": [
    {
     "data": {
      "text/html": [
       "<div>\n",
       "<style scoped>\n",
       "    .dataframe tbody tr th:only-of-type {\n",
       "        vertical-align: middle;\n",
       "    }\n",
       "\n",
       "    .dataframe tbody tr th {\n",
       "        vertical-align: top;\n",
       "    }\n",
       "\n",
       "    .dataframe thead th {\n",
       "        text-align: right;\n",
       "    }\n",
       "</style>\n",
       "<table border=\"1\" class=\"dataframe\">\n",
       "  <thead>\n",
       "    <tr style=\"text-align: right;\">\n",
       "      <th></th>\n",
       "      <th>doc_source</th>\n",
       "      <th>doc_title</th>\n",
       "      <th>doc_content</th>\n",
       "      <th>doc_date</th>\n",
       "      <th>doc_url</th>\n",
       "    </tr>\n",
       "    <tr>\n",
       "      <th>doc_id</th>\n",
       "      <th></th>\n",
       "      <th></th>\n",
       "      <th></th>\n",
       "      <th></th>\n",
       "      <th></th>\n",
       "    </tr>\n",
       "  </thead>\n",
       "  <tbody>\n",
       "    <tr>\n",
       "      <th>96</th>\n",
       "      <td>Daily Kos</td>\n",
       "      <td>Obama has done nothing to address income inequ...</td>\n",
       "      <td>Income and wealth inequality is a festering wo...</td>\n",
       "      <td>11/03/2013</td>\n",
       "      <td>http://feeds.dailykos.com/~r/dailykos/index/~3...</td>\n",
       "    </tr>\n",
       "    <tr>\n",
       "      <th>97</th>\n",
       "      <td>Daily Kos</td>\n",
       "      <td>Anti-racism is not 'anti-white,' no matter wha...</td>\n",
       "      <td>The virulent meme spread across our nation wit...</td>\n",
       "      <td>11/03/2013</td>\n",
       "      <td>http://feeds.dailykos.com/~r/dailykos/index/~3...</td>\n",
       "    </tr>\n",
       "    <tr>\n",
       "      <th>98</th>\n",
       "      <td>Daily Kos</td>\n",
       "      <td>Abbreviated Pundit Round-up:     Angry does no...</td>\n",
       "      <td>Chrystia Freeland sees a fight that's not not ...</td>\n",
       "      <td>11/03/2013</td>\n",
       "      <td>http://feeds.dailykos.com/~r/dailykos/index/~3...</td>\n",
       "    </tr>\n",
       "    <tr>\n",
       "      <th>99</th>\n",
       "      <td>Daily Kos</td>\n",
       "      <td>Sunday Talk: Haters gonna hate</td>\n",
       "      <td>No doubt, the bestest thing about America is o...</td>\n",
       "      <td>11/03/2013</td>\n",
       "      <td>http://feeds.dailykos.com/~r/dailykos/index/~3...</td>\n",
       "    </tr>\n",
       "    <tr>\n",
       "      <th>100</th>\n",
       "      <td>Daily Kos</td>\n",
       "      <td>Gore on fire: Says humans treating atmosphere ...</td>\n",
       "      <td>About time Al Gore has been everywhere lately....</td>\n",
       "      <td>11/03/2013</td>\n",
       "      <td>http://feeds.dailykos.com/~r/dailykos/index/~3...</td>\n",
       "    </tr>\n",
       "    <tr>\n",
       "      <th>...</th>\n",
       "      <td>...</td>\n",
       "      <td>...</td>\n",
       "      <td>...</td>\n",
       "      <td>...</td>\n",
       "      <td>...</td>\n",
       "    </tr>\n",
       "    <tr>\n",
       "      <th>1026288</th>\n",
       "      <td>Breitbart</td>\n",
       "      <td>'Moderates' Pete Buttigieg, Amy Klobuchar Skip...</td>\n",
       "      <td>Former South Bend, Indiana, Mayor Pete Buttigi...</td>\n",
       "      <td>02/27/2020</td>\n",
       "      <td>http://feedproxy.google.com/~r/breitbart/~3/CF...</td>\n",
       "    </tr>\n",
       "    <tr>\n",
       "      <th>1026289</th>\n",
       "      <td>Breitbart</td>\n",
       "      <td>HHS Secretary Defends President Trump at Coron...</td>\n",
       "      <td>HHS Secretary Alex Azar corrected the record a...</td>\n",
       "      <td>02/27/2020</td>\n",
       "      <td>http://feedproxy.google.com/~r/breitbart/~3/OD...</td>\n",
       "    </tr>\n",
       "    <tr>\n",
       "      <th>1026290</th>\n",
       "      <td>Breitbart</td>\n",
       "      <td>CDC Confirms Potential Case of Community Sprea...</td>\n",
       "      <td>The Centers for Disease Control and Prevention...</td>\n",
       "      <td>02/27/2020</td>\n",
       "      <td>http://feedproxy.google.com/~r/breitbart/~3/FQ...</td>\n",
       "    </tr>\n",
       "    <tr>\n",
       "      <th>1026291</th>\n",
       "      <td>Breitbart</td>\n",
       "      <td>Tulsi Gabbard on Dem Debate: 'I Couldn't Watch...</td>\n",
       "      <td>Wednesday on Fox News, Rep. Tulsi Gabbard (D-H...</td>\n",
       "      <td>02/27/2020</td>\n",
       "      <td>http://feedproxy.google.com/~r/breitbart/~3/UF...</td>\n",
       "    </tr>\n",
       "    <tr>\n",
       "      <th>1026292</th>\n",
       "      <td>Breitbart</td>\n",
       "      <td>John Legend Stumps for Elizabeth Warren: We Ca...</td>\n",
       "      <td>Grammy and Oscar-winning singer and constant T...</td>\n",
       "      <td>02/27/2020</td>\n",
       "      <td>http://feedproxy.google.com/~r/breitbart/~3/AQ...</td>\n",
       "    </tr>\n",
       "  </tbody>\n",
       "</table>\n",
       "<p>25992 rows × 5 columns</p>\n",
       "</div>"
      ],
      "text/plain": [
       "        doc_source                                          doc_title  \\\n",
       "doc_id                                                                  \n",
       "96       Daily Kos  Obama has done nothing to address income inequ...   \n",
       "97       Daily Kos  Anti-racism is not 'anti-white,' no matter wha...   \n",
       "98       Daily Kos  Abbreviated Pundit Round-up:     Angry does no...   \n",
       "99       Daily Kos                     Sunday Talk: Haters gonna hate   \n",
       "100      Daily Kos  Gore on fire: Says humans treating atmosphere ...   \n",
       "...            ...                                                ...   \n",
       "1026288  Breitbart  'Moderates' Pete Buttigieg, Amy Klobuchar Skip...   \n",
       "1026289  Breitbart  HHS Secretary Defends President Trump at Coron...   \n",
       "1026290  Breitbart  CDC Confirms Potential Case of Community Sprea...   \n",
       "1026291  Breitbart  Tulsi Gabbard on Dem Debate: 'I Couldn't Watch...   \n",
       "1026292  Breitbart  John Legend Stumps for Elizabeth Warren: We Ca...   \n",
       "\n",
       "                                               doc_content    doc_date  \\\n",
       "doc_id                                                                   \n",
       "96       Income and wealth inequality is a festering wo...  11/03/2013   \n",
       "97       The virulent meme spread across our nation wit...  11/03/2013   \n",
       "98       Chrystia Freeland sees a fight that's not not ...  11/03/2013   \n",
       "99       No doubt, the bestest thing about America is o...  11/03/2013   \n",
       "100      About time Al Gore has been everywhere lately....  11/03/2013   \n",
       "...                                                    ...         ...   \n",
       "1026288  Former South Bend, Indiana, Mayor Pete Buttigi...  02/27/2020   \n",
       "1026289  HHS Secretary Alex Azar corrected the record a...  02/27/2020   \n",
       "1026290  The Centers for Disease Control and Prevention...  02/27/2020   \n",
       "1026291  Wednesday on Fox News, Rep. Tulsi Gabbard (D-H...  02/27/2020   \n",
       "1026292  Grammy and Oscar-winning singer and constant T...  02/27/2020   \n",
       "\n",
       "                                                   doc_url  \n",
       "doc_id                                                      \n",
       "96       http://feeds.dailykos.com/~r/dailykos/index/~3...  \n",
       "97       http://feeds.dailykos.com/~r/dailykos/index/~3...  \n",
       "98       http://feeds.dailykos.com/~r/dailykos/index/~3...  \n",
       "99       http://feeds.dailykos.com/~r/dailykos/index/~3...  \n",
       "100      http://feeds.dailykos.com/~r/dailykos/index/~3...  \n",
       "...                                                    ...  \n",
       "1026288  http://feedproxy.google.com/~r/breitbart/~3/CF...  \n",
       "1026289  http://feedproxy.google.com/~r/breitbart/~3/OD...  \n",
       "1026290  http://feedproxy.google.com/~r/breitbart/~3/FQ...  \n",
       "1026291  http://feedproxy.google.com/~r/breitbart/~3/UF...  \n",
       "1026292  http://feedproxy.google.com/~r/breitbart/~3/AQ...  \n",
       "\n",
       "[25992 rows x 5 columns]"
      ]
     },
     "execution_count": 55,
     "metadata": {},
     "output_type": "execute_result"
    }
   ],
   "source": [
    "newzy"
   ]
  },
  {
   "cell_type": "code",
   "execution_count": 65,
   "metadata": {},
   "outputs": [
    {
     "data": {
      "text/plain": [
       "'I\\'m working my way through Charles Krauthammer\\'s Things That Matter, a collection of his columns over the past three decades. The book\\'s publication has provided the occasion for some much-deserved appreciation of the man, whose personal story is remarkable and whose influence on politics is unique. (In what now seems like ancient history, he suggested a plan for averting a debt ceiling crisis in early 2013, which worked.) Still, it feels as though few reviewers have identified what, exactly, makes Krauthammer special. It\\'s not just his remarkable recovery from a disabling accident, which Chris Wallace discussed on Fox News Sunday. He does not define the conservative agenda the way Rush Limbaugh or Mark Levin sometimes do. While he\\'s no David Brooks, telling the media what they want to hear, he sometimes dissents from the conservative line. What Krauthammer does, above all, is translate\\xa0conservatism into the conventional language of mainstream political debate. Conservatives tune in to see him on Fox News Special Report\\xa0or e-mail his weekly column around because we like the way he puts our case to the world--not necessarily because he puts it best. (The result still manages to shock some liberals, as clips of his appearances on DC-area\\xa0Inside Washington\\xa0show.) On the Jon Stewart show, Krauthammer praised Social Security and Medicare as the \"achievements\" of liberal politics, and praised the \"success\" of the welfare state. He also backed away from a full-throated defense of Ted Cruz (though he did not throw Cruz under the bus). Those gestures struck many conservatives, including me, as rather surprising. But tactically, they were effective: Stewart sat and listened, as did his audience. Krauthammer\\'s columns have a patient but plaintive style, as if he is addressing a skeptical audience, never quite losing faith that they will listen to reason. He is the guest at the dinner party who says something quite unexpected. There is a gasp or two. Forks clatter onto plates. And then he starts to explain, and his hosts start to listen. He challenges them, never \"singing for his supper.\" But he still manages to secure another invite. The task of explaining conservatism is one that Krauthammer takes very seriously. It is telling that the excerpt he chose for wider publication is called \"Moving From Left to Right,\" and deftly summarizes the path he has taken. That same spirit, that same urgent mission flows through the entire book. He is not trying to lead. Nor is he trying to win votes. He is trying to translate--sometimes in both directions. In that task, he is invaluable.    \\xa0\\xa0\\xa0\\xa0'"
      ]
     },
     "execution_count": 65,
     "metadata": {},
     "output_type": "execute_result"
    }
   ],
   "source": [
    "breitbart = newzy[newzy.doc_source == 'Breitbart'].reset_index()\n",
    "breitbart.iloc[5].doc_content"
   ]
  },
  {
   "cell_type": "code",
   "execution_count": 69,
   "metadata": {},
   "outputs": [
    {
     "data": {
      "text/plain": [
       "3041"
      ]
     },
     "execution_count": 69,
     "metadata": {},
     "output_type": "execute_result"
    }
   ],
   "source": [
    "len(breitbart[breitbart.doc_content.str.len() > 228])"
   ]
  },
  {
   "cell_type": "code",
   "execution_count": 46,
   "metadata": {},
   "outputs": [],
   "source": [
    "articles = []\n",
    "def parse_text(links):\n",
    "    for link in links:\n",
    "        url = link\n",
    "        try:\n",
    "            r = requests.get(url) #request documentation for errors\n",
    "        except requests.exceptions.RequestException:\n",
    "            articles.append('bad link')\n",
    "        else:\n",
    "            html_doc = r.text\n",
    "            soup = BeautifulSoup(html_doc) #check error here\n",
    "            p_tags = soup.find_all('p')\n",
    "            p_tags_text = [tag.get_text().strip() for tag in p_tags]\n",
    "            #Some links don't work so we need to check for that\n",
    "            if len(p_tags_text) == 0:\n",
    "                articles.append('bad link')\n",
    "            else:\n",
    "                # Filter out sentences that contain newline characters '\\n' or don't contain periods.\n",
    "                sentence_list = [sentence for sentence in p_tags_text if not '\\n' in sentence]\n",
    "                sentence_list = [sentence for sentence in sentence_list if '.' in sentence]\n",
    "                # Combine list items into string.\n",
    "                article = ' '.join(sentence_list)\n",
    "                articles.append(article)"
   ]
  },
  {
   "cell_type": "code",
   "execution_count": 23,
   "metadata": {},
   "outputs": [],
   "source": [
    "def url_to_string(links):\n",
    "    for url in links:\n",
    "        res = requests.get(url)\n",
    "        html = res.text\n",
    "        soup = BeautifulSoup(html, 'html5lib')\n",
    "        for script in soup([\"script\", \"style\", 'aside']):\n",
    "            script.extract()\n",
    "        article = \" \".join(re.split(r'[\\n\\t]+', soup.get_text()))\n",
    "        articles.append(article)"
   ]
  },
  {
   "cell_type": "code",
   "execution_count": 57,
   "metadata": {},
   "outputs": [],
   "source": [
    "links = breitbart.iloc[:101].doc_url "
   ]
  },
  {
   "cell_type": "code",
   "execution_count": 58,
   "metadata": {},
   "outputs": [],
   "source": [
    "parse_text(links)"
   ]
  },
  {
   "cell_type": "code",
   "execution_count": 59,
   "metadata": {},
   "outputs": [
    {
     "data": {
      "text/plain": [
       "101"
      ]
     },
     "execution_count": 59,
     "metadata": {},
     "output_type": "execute_result"
    }
   ],
   "source": [
    "len(articles)"
   ]
  },
  {
   "cell_type": "code",
   "execution_count": 39,
   "metadata": {},
   "outputs": [],
   "source": [
    "articles = pd.Series(articles)"
   ]
  },
  {
   "cell_type": "code",
   "execution_count": 40,
   "metadata": {},
   "outputs": [],
   "source": [
    "articles.to_csv('articles.csv')"
   ]
  },
  {
   "cell_type": "code",
   "execution_count": 62,
   "metadata": {},
   "outputs": [
    {
     "data": {
      "text/plain": [
       "['This process is automatic. Your browser will redirect to your requested content shortly.',\n",
       " 'This process is automatic. Your browser will redirect to your requested content shortly.',\n",
       " 'This process is automatic. Your browser will redirect to your requested content shortly.',\n",
       " 'This process is automatic. Your browser will redirect to your requested content shortly.',\n",
       " 'This process is automatic. Your browser will redirect to your requested content shortly.',\n",
       " 'This process is automatic. Your browser will redirect to your requested content shortly.',\n",
       " 'This process is automatic. Your browser will redirect to your requested content shortly.',\n",
       " 'This process is automatic. Your browser will redirect to your requested content shortly.',\n",
       " 'This process is automatic. Your browser will redirect to your requested content shortly.',\n",
       " 'This process is automatic. Your browser will redirect to your requested content shortly.',\n",
       " 'This process is automatic. Your browser will redirect to your requested content shortly.',\n",
       " 'This process is automatic. Your browser will redirect to your requested content shortly.',\n",
       " 'This process is automatic. Your browser will redirect to your requested content shortly.',\n",
       " 'This process is automatic. Your browser will redirect to your requested content shortly.',\n",
       " 'This process is automatic. Your browser will redirect to your requested content shortly.',\n",
       " 'This process is automatic. Your browser will redirect to your requested content shortly.',\n",
       " 'This process is automatic. Your browser will redirect to your requested content shortly.',\n",
       " 'This process is automatic. Your browser will redirect to your requested content shortly.',\n",
       " 'This process is automatic. Your browser will redirect to your requested content shortly.',\n",
       " 'This process is automatic. Your browser will redirect to your requested content shortly.',\n",
       " 'This process is automatic. Your browser will redirect to your requested content shortly.',\n",
       " 'This process is automatic. Your browser will redirect to your requested content shortly.',\n",
       " 'This process is automatic. Your browser will redirect to your requested content shortly.',\n",
       " 'This process is automatic. Your browser will redirect to your requested content shortly.',\n",
       " 'This process is automatic. Your browser will redirect to your requested content shortly.',\n",
       " 'This process is automatic. Your browser will redirect to your requested content shortly.']"
      ]
     },
     "execution_count": 62,
     "metadata": {},
     "output_type": "execute_result"
    }
   ],
   "source": [
    "articles[75:]"
   ]
  },
  {
   "cell_type": "code",
   "execution_count": 43,
   "metadata": {},
   "outputs": [
    {
     "data": {
      "text/html": [
       "<div>\n",
       "<style scoped>\n",
       "    .dataframe tbody tr th:only-of-type {\n",
       "        vertical-align: middle;\n",
       "    }\n",
       "\n",
       "    .dataframe tbody tr th {\n",
       "        vertical-align: top;\n",
       "    }\n",
       "\n",
       "    .dataframe thead th {\n",
       "        text-align: right;\n",
       "    }\n",
       "</style>\n",
       "<table border=\"1\" class=\"dataframe\">\n",
       "  <thead>\n",
       "    <tr style=\"text-align: right;\">\n",
       "      <th></th>\n",
       "      <th>doc_id</th>\n",
       "      <th>doc_source</th>\n",
       "      <th>doc_title</th>\n",
       "      <th>doc_content</th>\n",
       "      <th>doc_date</th>\n",
       "      <th>doc_url</th>\n",
       "    </tr>\n",
       "  </thead>\n",
       "  <tbody>\n",
       "    <tr>\n",
       "      <th>100</th>\n",
       "      <td>1530</td>\n",
       "      <td>Real Clear Politics</td>\n",
       "      <td>Navy Chief Impatient to Avoid Being Out-Sticked</td>\n",
       "      <td>Dustin Walker, RCDThe Navy’s top officer says ...</td>\n",
       "      <td>11/19/2013</td>\n",
       "      <td>http://www.realcleardefense.com/articles/2013/...</td>\n",
       "    </tr>\n",
       "    <tr>\n",
       "      <th>101</th>\n",
       "      <td>1531</td>\n",
       "      <td>Real Clear Politics</td>\n",
       "      <td>My First Plane Flight, to Mourn JFK</td>\n",
       "      <td>Walter Shapiro, Yahoo! NewsA child’s first pla...</td>\n",
       "      <td>11/19/2013</td>\n",
       "      <td>http://www.realclearpolitics.com/2013/11/19/my...</td>\n",
       "    </tr>\n",
       "    <tr>\n",
       "      <th>102</th>\n",
       "      <td>1532</td>\n",
       "      <td>Real Clear Politics</td>\n",
       "      <td>A New GOP Excuse for Doing Nothing</td>\n",
       "      <td>NaN</td>\n",
       "      <td>11/19/2013</td>\n",
       "      <td>http://www.realclearpolitics.com/2013/11/19/a_...</td>\n",
       "    </tr>\n",
       "    <tr>\n",
       "      <th>103</th>\n",
       "      <td>1533</td>\n",
       "      <td>Real Clear Politics</td>\n",
       "      <td>Suddenly, It's OK to Talk Obamacare Repeal</td>\n",
       "      <td>NaN</td>\n",
       "      <td>11/19/2013</td>\n",
       "      <td>http://www.realclearpolitics.com/2013/11/19/su...</td>\n",
       "    </tr>\n",
       "    <tr>\n",
       "      <th>104</th>\n",
       "      <td>1534</td>\n",
       "      <td>Real Clear Politics</td>\n",
       "      <td>Rein In Reckless Public Pensions</td>\n",
       "      <td>NaN</td>\n",
       "      <td>11/19/2013</td>\n",
       "      <td>http://www.realclearpolitics.com/2013/11/19/re...</td>\n",
       "    </tr>\n",
       "    <tr>\n",
       "      <th>105</th>\n",
       "      <td>1535</td>\n",
       "      <td>Real Clear Politics</td>\n",
       "      <td>Lincoln's Spare Words at Gettysburg Still Inspire</td>\n",
       "      <td>NaN</td>\n",
       "      <td>11/19/2013</td>\n",
       "      <td>http://www.realclearpolitics.com/2013/11/19/li...</td>\n",
       "    </tr>\n",
       "    <tr>\n",
       "      <th>106</th>\n",
       "      <td>1763</td>\n",
       "      <td>Real Clear Politics</td>\n",
       "      <td>Exposing the CIA's Stain on America</td>\n",
       "      <td>Ruth Marcus, Washington PostWASHINGTON -- Rele...</td>\n",
       "      <td>12/10/2014</td>\n",
       "      <td>http://www.realclearpolitics.com/articles/2014...</td>\n",
       "    </tr>\n",
       "    <tr>\n",
       "      <th>107</th>\n",
       "      <td>1770</td>\n",
       "      <td>Real Clear Politics</td>\n",
       "      <td>Partisan Report Fails America</td>\n",
       "      <td>Bob Kerrey, USA TodayI regret having to write ...</td>\n",
       "      <td>12/10/2014</td>\n",
       "      <td>http://www.realclearpolitics.com/2014/12/10/pa...</td>\n",
       "    </tr>\n",
       "    <tr>\n",
       "      <th>108</th>\n",
       "      <td>1784</td>\n",
       "      <td>Real Clear Politics</td>\n",
       "      <td>DC Politicians Threw the CIA Under the Bus</td>\n",
       "      <td>Jose Rodriguez, FOX NewsYes. I mean, I think i...</td>\n",
       "      <td>12/10/2014</td>\n",
       "      <td>http://www.realclearpolitics.com/video/2014/12...</td>\n",
       "    </tr>\n",
       "    <tr>\n",
       "      <th>109</th>\n",
       "      <td>1811</td>\n",
       "      <td>Real Clear Politics</td>\n",
       "      <td>Here Come the Torture Apologists</td>\n",
       "      <td>Andrew Rosenthal, New York TimesThe publicatio...</td>\n",
       "      <td>12/10/2014</td>\n",
       "      <td>http://www.realclearpolitics.com/2014/12/10/he...</td>\n",
       "    </tr>\n",
       "  </tbody>\n",
       "</table>\n",
       "</div>"
      ],
      "text/plain": [
       "     doc_id           doc_source  \\\n",
       "100    1530  Real Clear Politics   \n",
       "101    1531  Real Clear Politics   \n",
       "102    1532  Real Clear Politics   \n",
       "103    1533  Real Clear Politics   \n",
       "104    1534  Real Clear Politics   \n",
       "105    1535  Real Clear Politics   \n",
       "106    1763  Real Clear Politics   \n",
       "107    1770  Real Clear Politics   \n",
       "108    1784  Real Clear Politics   \n",
       "109    1811  Real Clear Politics   \n",
       "\n",
       "                                             doc_title  \\\n",
       "100    Navy Chief Impatient to Avoid Being Out-Sticked   \n",
       "101                My First Plane Flight, to Mourn JFK   \n",
       "102                 A New GOP Excuse for Doing Nothing   \n",
       "103         Suddenly, It's OK to Talk Obamacare Repeal   \n",
       "104                   Rein In Reckless Public Pensions   \n",
       "105  Lincoln's Spare Words at Gettysburg Still Inspire   \n",
       "106                Exposing the CIA's Stain on America   \n",
       "107                      Partisan Report Fails America   \n",
       "108         DC Politicians Threw the CIA Under the Bus   \n",
       "109                   Here Come the Torture Apologists   \n",
       "\n",
       "                                           doc_content    doc_date  \\\n",
       "100  Dustin Walker, RCDThe Navy’s top officer says ...  11/19/2013   \n",
       "101  Walter Shapiro, Yahoo! NewsA child’s first pla...  11/19/2013   \n",
       "102                                                NaN  11/19/2013   \n",
       "103                                                NaN  11/19/2013   \n",
       "104                                                NaN  11/19/2013   \n",
       "105                                                NaN  11/19/2013   \n",
       "106  Ruth Marcus, Washington PostWASHINGTON -- Rele...  12/10/2014   \n",
       "107  Bob Kerrey, USA TodayI regret having to write ...  12/10/2014   \n",
       "108  Jose Rodriguez, FOX NewsYes. I mean, I think i...  12/10/2014   \n",
       "109  Andrew Rosenthal, New York TimesThe publicatio...  12/10/2014   \n",
       "\n",
       "                                               doc_url  \n",
       "100  http://www.realcleardefense.com/articles/2013/...  \n",
       "101  http://www.realclearpolitics.com/2013/11/19/my...  \n",
       "102  http://www.realclearpolitics.com/2013/11/19/a_...  \n",
       "103  http://www.realclearpolitics.com/2013/11/19/su...  \n",
       "104  http://www.realclearpolitics.com/2013/11/19/re...  \n",
       "105  http://www.realclearpolitics.com/2013/11/19/li...  \n",
       "106  http://www.realclearpolitics.com/articles/2014...  \n",
       "107  http://www.realclearpolitics.com/2014/12/10/pa...  \n",
       "108  http://www.realclearpolitics.com/video/2014/12...  \n",
       "109  http://www.realclearpolitics.com/2014/12/10/he...  "
      ]
     },
     "execution_count": 43,
     "metadata": {},
     "output_type": "execute_result"
    }
   ],
   "source": [
    "realclear.iloc[100:110]"
   ]
  },
  {
   "cell_type": "code",
   "execution_count": 45,
   "metadata": {},
   "outputs": [
    {
     "data": {
      "text/plain": [
       "['With unrestrained glee, Republicans are using the calamitous debut of the Affordable Care Act as their latest justification for undermining all of health care reform. But they’re not stopping there. The Obama administration’s fumbling is apparently a good excuse for them to do nothing on immigration reform, on a budget agreement, and on any other initiative coming out of the White House.',\n",
       " 'Repeal: Not too long ago, Republicans pushing to kill ObamaCare were called extremists, obsessives and traitors. Now even liberals are discussing the possibility of repeal. We\\'ve reached an important turning point. Back in May, nobody batted an eye when Bill Maher blasted the GOP\\'s efforts to repeal ObamaCare. \"At some point,\" he said, \"obstruction becomes, I don\\'t know, treason?\"',\n",
       " \"This month's races for governor sent a widely noted message that Republicans will do much better if they nominate center-right candidates like New Jersey's Chris Christie than far-right candidates like Virginia's Ken Cuccinelli.\",\n",
       " 'One hundred fifty years ago, President Abraham Lincoln went to Gettysburg, Pa., to comfort the soldiers on the battlefield, honor those who died and steel the nation for the challenges ahead. Although Lincoln humbly professed no one would recall his words, few speeches are as celebrated.',\n",
       " 'WASHINGTON -- Releasing the Senate Intelligence Committee\\'s report on torture wasn\\'t even close to a close call. It was a necessary, if infuriatingly belated, corollary to the choice not to prosecute those who relied on faulty legal advice in engaging in such repugnant practices. The sordid episode called for national accountability, which is what the committee provided Tuesday. Nations, like individuals, cannot move on from traumatic moments without taking stock of their behavior. That rule holds especially true in the context of civil liberties, because of the recurring temptation to repeat problematic behaviors. Indeed, as Intelligence Committee Chairman Dianne Feinstein, D-Calif., noted, President Obama\\'s self-imposed executive order to restrict the CIA from holding detainees and limit interrogation techniques to those in the Army Field Manual \"could be overturned by a future president with the stroke of a pen.\" As Feinstein argued, \"They should be enshrined in legislation.\" By contrast, the arguments against releasing the report, or for delaying its release, were flat-out wrong. Some -- from those who supported and orchestrated torture -- are self-interested and wrong. Others -- I\\'m talking about you, John Kerry -- were well-meaning and wrong. There will never be a comfortable time to disclose embarrassing information. No doubt some enemies of the United States will seize on the disclosures to protest, or worse. But the notion that the country\\'s enemies need an incentive to seek to harm our citizens is horribly belied by, among other things, the recent beheadings by the Islamic State. The contention that the risks of release are too great, and the practice so far in the rear-view mirror, would both reward CIA obstructionism in delaying release and ignore the fact that this debate, and practice, is capable of being repeated. The imperative for disclosure was clear in advance. But reading the stomach-churning findings of the 500-page executive summary, the only part cleared for declassification, reinforces its importance. No one can review this account without feeling horror and shame, and without feeling anger at the degree to which public officials and the public itself were misled about what was being done in the name of national security. Among the conclusions: So-called \"enhanced interrogation was \"not an effective means of obtaining accurate information.\" Instead, \"multiple CIA detainees fabricated information, resulting in faulty intelligence.\" Meanwhile, the interrogations \"were brutal and far worse than the CIA represented to policymakers and others.\" The techniques included, in addition to waterboardings that amounted to near-drownings, detainees being kept awake for up to 180 hours, detainees subjected to \"rectal rehydration,\" and detainees kept shackled in total darkness in dungeon-like conditions. Even as the CIA mistreated detainees, it submitted false claims about the effectiveness of the interrogation techniques and misled the Justice Department and others about what it was doing. Its claims of counterterrorism successes were \"wrong in fundamental respects,\" at best corroborating information already available or acquired before the application of enhanced interrogation. One of the most infuriating parts of the report concerns the degree to which the CIA submitted misleading information to the Justice Department lawyers called on to approve the enhanced interrogation techniques. I have argued, and continue to believe, that it would be unfair to prosecute individual CIA officers for engaging in torture based on distorted legal advice supplied by the Office of Legal Counsel. The now-discredited OLC opinions approved waterboarding, among other practices; that was wrong as a matter of law and morality. But the Senate report makes clear that OLC\\'s flawed advice was also based on inaccurate information provided by the CIA. One example involved a 2002 OLC memo permitting 10 interrogation techniques to be used against detainee Abu Zubaida.In seeking legal approval, the CIA both exaggerated Zubaida\\'s importance -- asserting incorrectly that he \"has been involved in every major terrorist operation carried out by al-Qaeda\" and \"was one of the planners\" of 9/11 -- and, again incorrectly, that interrogators were \"certain\" Zubaida was withholding \"critical threat information.\" Officials can\\'t defend themselves by claiming reliance on counsel that they themselves misled -- and the Zubaida episode was just part of a series of inaccurate representations. Moreover, the CIA, as the report details, was similarly unforthcoming not only with congressional overseers but with its own bosses at the White House. Feinstein, all too accurately, described the episode as \"a stain on our values and history.\" If that stain can never be erased, the committee\\'s report reflects an essential step in minimizing it.',\n",
       " \"I regret having to write a piece that is critical of the Democratic members of the Senate Select Committee on Intelligence. Most of them are former colleagues and friends. I hope they will remain friends after reading this. For eight years I served on this committee. I know how difficult and important the work of providing tough and fair oversight of our nation's $50 billion top-secret intelligence network.\",\n",
       " '',\n",
       " 'The publication today of a censored summary of the Senate Intelligence Committee’s investigation into the use of torture at C.I.A. prisons has brought war-crime apologists out from under their rocks. Chief among them is former Vice President Dick Cheney, one of the all-time great prisoner abuse enthusiasts. Even before the report was issued, Mr. Cheney was telling The New York Times on Monday that torturing prisoners was absolutely the right thing to do and that everything the C.I.A. did was authorized.']"
      ]
     },
     "execution_count": 45,
     "metadata": {},
     "output_type": "execute_result"
    }
   ],
   "source": [
    "articles[102:110]"
   ]
  },
  {
   "cell_type": "code",
   "execution_count": 42,
   "metadata": {},
   "outputs": [
    {
     "data": {
      "text/plain": [
       "100"
      ]
     },
     "execution_count": 42,
     "metadata": {},
     "output_type": "execute_result"
    }
   ],
   "source": [
    "len(links)"
   ]
  },
  {
   "cell_type": "code",
   "execution_count": null,
   "metadata": {},
   "outputs": [],
   "source": []
  }
 ],
 "metadata": {
  "kernelspec": {
   "display_name": "Python 3",
   "language": "python",
   "name": "python3"
  },
  "language_info": {
   "codemirror_mode": {
    "name": "ipython",
    "version": 3
   },
   "file_extension": ".py",
   "mimetype": "text/x-python",
   "name": "python",
   "nbconvert_exporter": "python",
   "pygments_lexer": "ipython3",
   "version": "3.7.5"
  }
 },
 "nbformat": 4,
 "nbformat_minor": 4
}
