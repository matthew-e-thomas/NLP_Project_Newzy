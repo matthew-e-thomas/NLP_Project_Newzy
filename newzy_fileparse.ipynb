{
 "cells": [
  {
   "cell_type": "code",
   "execution_count": 1,
   "metadata": {},
   "outputs": [],
   "source": [
    "import pandas as pd\n",
    "import requests\n",
    "from bs4 import BeautifulSoup\n",
    "import re"
   ]
  },
  {
   "cell_type": "code",
   "execution_count": 2,
   "metadata": {},
   "outputs": [
    {
     "name": "stderr",
     "output_type": "stream",
     "text": [
      "/Users/matthewthomas/anaconda3/lib/python3.7/site-packages/numpy/lib/arraysetops.py:569: FutureWarning: elementwise comparison failed; returning scalar instead, but in the future will perform elementwise comparison\n",
      "  mask |= (ar1 == a)\n"
     ]
    }
   ],
   "source": [
    "newzy = pd.read_csv('../FinalProject/newzy.csv', sep='|', index_col='doc_id')"
   ]
  },
  {
   "cell_type": "code",
   "execution_count": 3,
   "metadata": {},
   "outputs": [],
   "source": [
    "#articles = pd.read_csv('../FinalProject/articles.csv', index_col=0)"
   ]
  },
  {
   "cell_type": "code",
   "execution_count": 3,
   "metadata": {},
   "outputs": [],
   "source": [
    "#articles = articles['0'].to_list()"
   ]
  },
  {
   "cell_type": "code",
   "execution_count": 4,
   "metadata": {},
   "outputs": [
    {
     "data": {
      "text/plain": [
       "array(['Google News', 'PowerLine', 'Reuters', 'Guardian', 'Daily Kos',\n",
       "       'Drudge Report', 'Real Clear Politics', 'NPR', 'Fox',\n",
       "       'New York Times', 'Breitbart', 'CNN', 'US News', 'UPI Latest',\n",
       "       'Politico Magazine', nan], dtype=object)"
      ]
     },
     "execution_count": 4,
     "metadata": {},
     "output_type": "execute_result"
    }
   ],
   "source": [
    "newzy.doc_source.unique()"
   ]
  },
  {
   "cell_type": "code",
   "execution_count": 5,
   "metadata": {},
   "outputs": [],
   "source": [
    "filters =  ['Powerline', 'Daily Kos',\\\n",
    "            'Real Clear Politics', 'Politico Magazine']"
   ]
  },
  {
   "cell_type": "code",
   "execution_count": 6,
   "metadata": {},
   "outputs": [],
   "source": [
    "newzy = newzy[newzy.doc_source.isin(filters)]"
   ]
  },
  {
   "cell_type": "code",
   "execution_count": 7,
   "metadata": {},
   "outputs": [
    {
     "data": {
      "text/html": [
       "<div>\n",
       "<style scoped>\n",
       "    .dataframe tbody tr th:only-of-type {\n",
       "        vertical-align: middle;\n",
       "    }\n",
       "\n",
       "    .dataframe tbody tr th {\n",
       "        vertical-align: top;\n",
       "    }\n",
       "\n",
       "    .dataframe thead th {\n",
       "        text-align: right;\n",
       "    }\n",
       "</style>\n",
       "<table border=\"1\" class=\"dataframe\">\n",
       "  <thead>\n",
       "    <tr style=\"text-align: right;\">\n",
       "      <th></th>\n",
       "      <th>doc_source</th>\n",
       "      <th>doc_title</th>\n",
       "      <th>doc_content</th>\n",
       "      <th>doc_date</th>\n",
       "      <th>doc_url</th>\n",
       "    </tr>\n",
       "    <tr>\n",
       "      <th>doc_id</th>\n",
       "      <th></th>\n",
       "      <th></th>\n",
       "      <th></th>\n",
       "      <th></th>\n",
       "      <th></th>\n",
       "    </tr>\n",
       "  </thead>\n",
       "  <tbody>\n",
       "    <tr>\n",
       "      <th>96</th>\n",
       "      <td>Daily Kos</td>\n",
       "      <td>Obama has done nothing to address income inequ...</td>\n",
       "      <td>Income and wealth inequality is a festering wo...</td>\n",
       "      <td>11/03/2013</td>\n",
       "      <td>http://feeds.dailykos.com/~r/dailykos/index/~3...</td>\n",
       "    </tr>\n",
       "    <tr>\n",
       "      <th>97</th>\n",
       "      <td>Daily Kos</td>\n",
       "      <td>Anti-racism is not 'anti-white,' no matter wha...</td>\n",
       "      <td>The virulent meme spread across our nation wit...</td>\n",
       "      <td>11/03/2013</td>\n",
       "      <td>http://feeds.dailykos.com/~r/dailykos/index/~3...</td>\n",
       "    </tr>\n",
       "    <tr>\n",
       "      <th>98</th>\n",
       "      <td>Daily Kos</td>\n",
       "      <td>Abbreviated Pundit Round-up:     Angry does no...</td>\n",
       "      <td>Chrystia Freeland sees a fight that's not not ...</td>\n",
       "      <td>11/03/2013</td>\n",
       "      <td>http://feeds.dailykos.com/~r/dailykos/index/~3...</td>\n",
       "    </tr>\n",
       "    <tr>\n",
       "      <th>99</th>\n",
       "      <td>Daily Kos</td>\n",
       "      <td>Sunday Talk: Haters gonna hate</td>\n",
       "      <td>No doubt, the bestest thing about America is o...</td>\n",
       "      <td>11/03/2013</td>\n",
       "      <td>http://feeds.dailykos.com/~r/dailykos/index/~3...</td>\n",
       "    </tr>\n",
       "    <tr>\n",
       "      <th>100</th>\n",
       "      <td>Daily Kos</td>\n",
       "      <td>Gore on fire: Says humans treating atmosphere ...</td>\n",
       "      <td>About time Al Gore has been everywhere lately....</td>\n",
       "      <td>11/03/2013</td>\n",
       "      <td>http://feeds.dailykos.com/~r/dailykos/index/~3...</td>\n",
       "    </tr>\n",
       "    <tr>\n",
       "      <th>...</th>\n",
       "      <td>...</td>\n",
       "      <td>...</td>\n",
       "      <td>...</td>\n",
       "      <td>...</td>\n",
       "      <td>...</td>\n",
       "    </tr>\n",
       "    <tr>\n",
       "      <th>1026314</th>\n",
       "      <td>Real Clear Politics</td>\n",
       "      <td>Bernie Sanders, the Sixty Trillion Dollar Man</td>\n",
       "      <td>The price of Bernie Sanders's agenda could be ...</td>\n",
       "      <td>02/27/2020</td>\n",
       "      <td>https://www.realclearpolitics.com/2020/02/26/b...</td>\n",
       "    </tr>\n",
       "    <tr>\n",
       "      <th>1026315</th>\n",
       "      <td>Real Clear Politics</td>\n",
       "      <td>Sanders' Plans Cheap Compared to Cost of Doing...</td>\n",
       "      <td>Investing in healthcare, public higher educati...</td>\n",
       "      <td>02/27/2020</td>\n",
       "      <td>https://www.realclearpolitics.com/2020/02/26/s...</td>\n",
       "    </tr>\n",
       "    <tr>\n",
       "      <th>1026316</th>\n",
       "      <td>Real Clear Politics</td>\n",
       "      <td>Weinstein and the Complicated Legacy of Me Too</td>\n",
       "      <td>When the guilty verdict was delivered, Hollywo...</td>\n",
       "      <td>02/27/2020</td>\n",
       "      <td>https://www.realclearpolitics.com/2020/02/26/w...</td>\n",
       "    </tr>\n",
       "    <tr>\n",
       "      <th>1026317</th>\n",
       "      <td>Real Clear Politics</td>\n",
       "      <td>Weinstein Shows #MeToo Made Its Mark on Justic...</td>\n",
       "      <td>Defense attorney Caroline Polisi writes that H...</td>\n",
       "      <td>02/27/2020</td>\n",
       "      <td>https://www.realclearpolitics.com/2020/02/26/w...</td>\n",
       "    </tr>\n",
       "    <tr>\n",
       "      <th>1026318</th>\n",
       "      <td>Real Clear Politics</td>\n",
       "      <td>Bejing's Great Leap Backwards</td>\n",
       "      <td>Several years ago, in an overheated room in Be...</td>\n",
       "      <td>02/27/2020</td>\n",
       "      <td>https://www.realclearpolitics.com/2020/02/26/b...</td>\n",
       "    </tr>\n",
       "  </tbody>\n",
       "</table>\n",
       "<p>56591 rows × 5 columns</p>\n",
       "</div>"
      ],
      "text/plain": [
       "                  doc_source  \\\n",
       "doc_id                         \n",
       "96                 Daily Kos   \n",
       "97                 Daily Kos   \n",
       "98                 Daily Kos   \n",
       "99                 Daily Kos   \n",
       "100                Daily Kos   \n",
       "...                      ...   \n",
       "1026314  Real Clear Politics   \n",
       "1026315  Real Clear Politics   \n",
       "1026316  Real Clear Politics   \n",
       "1026317  Real Clear Politics   \n",
       "1026318  Real Clear Politics   \n",
       "\n",
       "                                                 doc_title  \\\n",
       "doc_id                                                       \n",
       "96       Obama has done nothing to address income inequ...   \n",
       "97       Anti-racism is not 'anti-white,' no matter wha...   \n",
       "98       Abbreviated Pundit Round-up:     Angry does no...   \n",
       "99                          Sunday Talk: Haters gonna hate   \n",
       "100      Gore on fire: Says humans treating atmosphere ...   \n",
       "...                                                    ...   \n",
       "1026314      Bernie Sanders, the Sixty Trillion Dollar Man   \n",
       "1026315  Sanders' Plans Cheap Compared to Cost of Doing...   \n",
       "1026316     Weinstein and the Complicated Legacy of Me Too   \n",
       "1026317  Weinstein Shows #MeToo Made Its Mark on Justic...   \n",
       "1026318                      Bejing's Great Leap Backwards   \n",
       "\n",
       "                                               doc_content    doc_date  \\\n",
       "doc_id                                                                   \n",
       "96       Income and wealth inequality is a festering wo...  11/03/2013   \n",
       "97       The virulent meme spread across our nation wit...  11/03/2013   \n",
       "98       Chrystia Freeland sees a fight that's not not ...  11/03/2013   \n",
       "99       No doubt, the bestest thing about America is o...  11/03/2013   \n",
       "100      About time Al Gore has been everywhere lately....  11/03/2013   \n",
       "...                                                    ...         ...   \n",
       "1026314  The price of Bernie Sanders's agenda could be ...  02/27/2020   \n",
       "1026315  Investing in healthcare, public higher educati...  02/27/2020   \n",
       "1026316  When the guilty verdict was delivered, Hollywo...  02/27/2020   \n",
       "1026317  Defense attorney Caroline Polisi writes that H...  02/27/2020   \n",
       "1026318  Several years ago, in an overheated room in Be...  02/27/2020   \n",
       "\n",
       "                                                   doc_url  \n",
       "doc_id                                                      \n",
       "96       http://feeds.dailykos.com/~r/dailykos/index/~3...  \n",
       "97       http://feeds.dailykos.com/~r/dailykos/index/~3...  \n",
       "98       http://feeds.dailykos.com/~r/dailykos/index/~3...  \n",
       "99       http://feeds.dailykos.com/~r/dailykos/index/~3...  \n",
       "100      http://feeds.dailykos.com/~r/dailykos/index/~3...  \n",
       "...                                                    ...  \n",
       "1026314  https://www.realclearpolitics.com/2020/02/26/b...  \n",
       "1026315  https://www.realclearpolitics.com/2020/02/26/s...  \n",
       "1026316  https://www.realclearpolitics.com/2020/02/26/w...  \n",
       "1026317  https://www.realclearpolitics.com/2020/02/26/w...  \n",
       "1026318  https://www.realclearpolitics.com/2020/02/26/b...  \n",
       "\n",
       "[56591 rows x 5 columns]"
      ]
     },
     "execution_count": 7,
     "metadata": {},
     "output_type": "execute_result"
    }
   ],
   "source": [
    "newzy"
   ]
  },
  {
   "cell_type": "code",
   "execution_count": 22,
   "metadata": {},
   "outputs": [],
   "source": [
    "articles = []\n",
    "def parse_text(links):\n",
    "    for link in links:\n",
    "        url = link\n",
    "        try:\n",
    "            r = requests.get(url) #request documentation for errors\n",
    "        except requests.exceptions.RequestException:\n",
    "            articles.append('bad link')\n",
    "        else:\n",
    "            html_doc = r.text\n",
    "            soup = BeautifulSoup(html_doc) #check error here\n",
    "            p_tags = soup.find_all('p')\n",
    "            p_tags_text = [tag.get_text().strip() for tag in p_tags]\n",
    "            #Some links don't work so we need to check for that\n",
    "            if len(p_tags_text) == 0:\n",
    "                articles.append('bad link')\n",
    "            else:\n",
    "                # Filter out sentences that contain newline characters '\\n' or don't contain periods.\n",
    "                sentence_list = [sentence for sentence in p_tags_text if not '\\n' in sentence]\n",
    "                sentence_list = [sentence for sentence in sentence_list if '.' in sentence]\n",
    "                # Combine list items into string.\n",
    "                article = ' '.join(sentence_list)\n",
    "                articles.append(article)"
   ]
  },
  {
   "cell_type": "code",
   "execution_count": 23,
   "metadata": {},
   "outputs": [],
   "source": [
    "''''def url_to_string(links):\n",
    "    for url in links:\n",
    "        res = requests.get(url)\n",
    "        html = res.text\n",
    "        soup = BeautifulSoup(html, 'html5lib')\n",
    "        for script in soup([\"script\", \"style\", 'aside']):\n",
    "            script.extract()\n",
    "        article = \" \".join(re.split(r'[\\n\\t]+', soup.get_text()))\n",
    "        articles.append(article)"
   ]
  },
  {
   "cell_type": "markdown",
   "metadata": {},
   "source": [
    "### Download Real Clear News Articles"
   ]
  },
  {
   "cell_type": "code",
   "execution_count": 6,
   "metadata": {},
   "outputs": [],
   "source": [
    "realclear = newzy[newzy.doc_source == 'Real Clear Politics'].reset_index()"
   ]
  },
  {
   "cell_type": "code",
   "execution_count": 47,
   "metadata": {},
   "outputs": [
    {
     "data": {
      "text/plain": [
       "40611"
      ]
     },
     "execution_count": 47,
     "metadata": {},
     "output_type": "execute_result"
    }
   ],
   "source": [
    "len(realclear)"
   ]
  },
  {
   "cell_type": "code",
   "execution_count": 55,
   "metadata": {},
   "outputs": [],
   "source": [
    "links = realclear.iloc[20000:].doc_url.to_list() "
   ]
  },
  {
   "cell_type": "code",
   "execution_count": 56,
   "metadata": {},
   "outputs": [],
   "source": [
    "parse_text(links)"
   ]
  },
  {
   "cell_type": "markdown",
   "metadata": {},
   "source": [
    "### Get Daily Kos Articles"
   ]
  },
  {
   "cell_type": "code",
   "execution_count": 9,
   "metadata": {},
   "outputs": [],
   "source": [
    "dailykos = newzy[newzy.doc_source == 'Daily Kos'].reset_index()"
   ]
  },
  {
   "cell_type": "code",
   "execution_count": 11,
   "metadata": {},
   "outputs": [
    {
     "data": {
      "text/html": [
       "<div>\n",
       "<style scoped>\n",
       "    .dataframe tbody tr th:only-of-type {\n",
       "        vertical-align: middle;\n",
       "    }\n",
       "\n",
       "    .dataframe tbody tr th {\n",
       "        vertical-align: top;\n",
       "    }\n",
       "\n",
       "    .dataframe thead th {\n",
       "        text-align: right;\n",
       "    }\n",
       "</style>\n",
       "<table border=\"1\" class=\"dataframe\">\n",
       "  <thead>\n",
       "    <tr style=\"text-align: right;\">\n",
       "      <th></th>\n",
       "      <th>doc_id</th>\n",
       "      <th>doc_source</th>\n",
       "      <th>doc_title</th>\n",
       "      <th>doc_content</th>\n",
       "      <th>doc_date</th>\n",
       "      <th>doc_url</th>\n",
       "    </tr>\n",
       "  </thead>\n",
       "  <tbody>\n",
       "    <tr>\n",
       "      <th>0</th>\n",
       "      <td>96</td>\n",
       "      <td>Daily Kos</td>\n",
       "      <td>Obama has done nothing to address income inequ...</td>\n",
       "      <td>Income and wealth inequality is a festering wo...</td>\n",
       "      <td>11/03/2013</td>\n",
       "      <td>http://feeds.dailykos.com/~r/dailykos/index/~3...</td>\n",
       "    </tr>\n",
       "    <tr>\n",
       "      <th>1</th>\n",
       "      <td>97</td>\n",
       "      <td>Daily Kos</td>\n",
       "      <td>Anti-racism is not 'anti-white,' no matter wha...</td>\n",
       "      <td>The virulent meme spread across our nation wit...</td>\n",
       "      <td>11/03/2013</td>\n",
       "      <td>http://feeds.dailykos.com/~r/dailykos/index/~3...</td>\n",
       "    </tr>\n",
       "    <tr>\n",
       "      <th>2</th>\n",
       "      <td>98</td>\n",
       "      <td>Daily Kos</td>\n",
       "      <td>Abbreviated Pundit Round-up:     Angry does no...</td>\n",
       "      <td>Chrystia Freeland sees a fight that's not not ...</td>\n",
       "      <td>11/03/2013</td>\n",
       "      <td>http://feeds.dailykos.com/~r/dailykos/index/~3...</td>\n",
       "    </tr>\n",
       "    <tr>\n",
       "      <th>3</th>\n",
       "      <td>99</td>\n",
       "      <td>Daily Kos</td>\n",
       "      <td>Sunday Talk: Haters gonna hate</td>\n",
       "      <td>No doubt, the bestest thing about America is o...</td>\n",
       "      <td>11/03/2013</td>\n",
       "      <td>http://feeds.dailykos.com/~r/dailykos/index/~3...</td>\n",
       "    </tr>\n",
       "    <tr>\n",
       "      <th>4</th>\n",
       "      <td>100</td>\n",
       "      <td>Daily Kos</td>\n",
       "      <td>Gore on fire: Says humans treating atmosphere ...</td>\n",
       "      <td>About time Al Gore has been everywhere lately....</td>\n",
       "      <td>11/03/2013</td>\n",
       "      <td>http://feeds.dailykos.com/~r/dailykos/index/~3...</td>\n",
       "    </tr>\n",
       "  </tbody>\n",
       "</table>\n",
       "</div>"
      ],
      "text/plain": [
       "   doc_id doc_source                                          doc_title  \\\n",
       "0      96  Daily Kos  Obama has done nothing to address income inequ...   \n",
       "1      97  Daily Kos  Anti-racism is not 'anti-white,' no matter wha...   \n",
       "2      98  Daily Kos  Abbreviated Pundit Round-up:     Angry does no...   \n",
       "3      99  Daily Kos                     Sunday Talk: Haters gonna hate   \n",
       "4     100  Daily Kos  Gore on fire: Says humans treating atmosphere ...   \n",
       "\n",
       "                                         doc_content    doc_date  \\\n",
       "0  Income and wealth inequality is a festering wo...  11/03/2013   \n",
       "1  The virulent meme spread across our nation wit...  11/03/2013   \n",
       "2  Chrystia Freeland sees a fight that's not not ...  11/03/2013   \n",
       "3  No doubt, the bestest thing about America is o...  11/03/2013   \n",
       "4  About time Al Gore has been everywhere lately....  11/03/2013   \n",
       "\n",
       "                                             doc_url  \n",
       "0  http://feeds.dailykos.com/~r/dailykos/index/~3...  \n",
       "1  http://feeds.dailykos.com/~r/dailykos/index/~3...  \n",
       "2  http://feeds.dailykos.com/~r/dailykos/index/~3...  \n",
       "3  http://feeds.dailykos.com/~r/dailykos/index/~3...  \n",
       "4  http://feeds.dailykos.com/~r/dailykos/index/~3...  "
      ]
     },
     "execution_count": 11,
     "metadata": {},
     "output_type": "execute_result"
    }
   ],
   "source": [
    "dailykos.head()"
   ]
  },
  {
   "cell_type": "code",
   "execution_count": 25,
   "metadata": {},
   "outputs": [],
   "source": [
    "links = dailykos.doc_url.to_list()"
   ]
  },
  {
   "cell_type": "code",
   "execution_count": 26,
   "metadata": {},
   "outputs": [
    {
     "data": {
      "text/plain": [
       "12310"
      ]
     },
     "execution_count": 26,
     "metadata": {},
     "output_type": "execute_result"
    }
   ],
   "source": [
    "len(links)"
   ]
  },
  {
   "cell_type": "code",
   "execution_count": 27,
   "metadata": {},
   "outputs": [],
   "source": [
    "parse_text(links)"
   ]
  },
  {
   "cell_type": "code",
   "execution_count": 28,
   "metadata": {},
   "outputs": [
    {
     "data": {
      "text/plain": [
       "12310"
      ]
     },
     "execution_count": 28,
     "metadata": {},
     "output_type": "execute_result"
    }
   ],
   "source": [
    "len(articles)"
   ]
  },
  {
   "cell_type": "code",
   "execution_count": 29,
   "metadata": {},
   "outputs": [],
   "source": [
    "dailykos['articles'] = articles"
   ]
  },
  {
   "cell_type": "code",
   "execution_count": 30,
   "metadata": {},
   "outputs": [
    {
     "data": {
      "text/html": [
       "<div>\n",
       "<style scoped>\n",
       "    .dataframe tbody tr th:only-of-type {\n",
       "        vertical-align: middle;\n",
       "    }\n",
       "\n",
       "    .dataframe tbody tr th {\n",
       "        vertical-align: top;\n",
       "    }\n",
       "\n",
       "    .dataframe thead th {\n",
       "        text-align: right;\n",
       "    }\n",
       "</style>\n",
       "<table border=\"1\" class=\"dataframe\">\n",
       "  <thead>\n",
       "    <tr style=\"text-align: right;\">\n",
       "      <th></th>\n",
       "      <th>doc_id</th>\n",
       "      <th>doc_source</th>\n",
       "      <th>doc_title</th>\n",
       "      <th>doc_content</th>\n",
       "      <th>doc_date</th>\n",
       "      <th>doc_url</th>\n",
       "      <th>articles</th>\n",
       "    </tr>\n",
       "  </thead>\n",
       "  <tbody>\n",
       "    <tr>\n",
       "      <th>0</th>\n",
       "      <td>96</td>\n",
       "      <td>Daily Kos</td>\n",
       "      <td>Obama has done nothing to address income inequ...</td>\n",
       "      <td>Income and wealth inequality is a festering wo...</td>\n",
       "      <td>11/03/2013</td>\n",
       "      <td>http://feeds.dailykos.com/~r/dailykos/index/~3...</td>\n",
       "      <td>But how strong is the correlation between fall...</td>\n",
       "    </tr>\n",
       "    <tr>\n",
       "      <th>1</th>\n",
       "      <td>97</td>\n",
       "      <td>Daily Kos</td>\n",
       "      <td>Anti-racism is not 'anti-white,' no matter wha...</td>\n",
       "      <td>The virulent meme spread across our nation wit...</td>\n",
       "      <td>11/03/2013</td>\n",
       "      <td>http://feeds.dailykos.com/~r/dailykos/index/~3...</td>\n",
       "      <td>The virulent meme spread across our nation wit...</td>\n",
       "    </tr>\n",
       "    <tr>\n",
       "      <th>2</th>\n",
       "      <td>98</td>\n",
       "      <td>Daily Kos</td>\n",
       "      <td>Abbreviated Pundit Round-up:     Angry does no...</td>\n",
       "      <td>Chrystia Freeland sees a fight that's not not ...</td>\n",
       "      <td>11/03/2013</td>\n",
       "      <td>http://feeds.dailykos.com/~r/dailykos/index/~3...</td>\n",
       "      <td>Why are the plutocrats, with their great wealt...</td>\n",
       "    </tr>\n",
       "    <tr>\n",
       "      <th>3</th>\n",
       "      <td>99</td>\n",
       "      <td>Daily Kos</td>\n",
       "      <td>Sunday Talk: Haters gonna hate</td>\n",
       "      <td>No doubt, the bestest thing about America is o...</td>\n",
       "      <td>11/03/2013</td>\n",
       "      <td>http://feeds.dailykos.com/~r/dailykos/index/~3...</td>\n",
       "      <td>Unfortunately for Barack Obama, a growing numb...</td>\n",
       "    </tr>\n",
       "    <tr>\n",
       "      <th>4</th>\n",
       "      <td>100</td>\n",
       "      <td>Daily Kos</td>\n",
       "      <td>Gore on fire: Says humans treating atmosphere ...</td>\n",
       "      <td>About time Al Gore has been everywhere lately....</td>\n",
       "      <td>11/03/2013</td>\n",
       "      <td>http://feeds.dailykos.com/~r/dailykos/index/~3...</td>\n",
       "      <td>Al Gore has been everywhere lately. Just last ...</td>\n",
       "    </tr>\n",
       "  </tbody>\n",
       "</table>\n",
       "</div>"
      ],
      "text/plain": [
       "   doc_id doc_source                                          doc_title  \\\n",
       "0      96  Daily Kos  Obama has done nothing to address income inequ...   \n",
       "1      97  Daily Kos  Anti-racism is not 'anti-white,' no matter wha...   \n",
       "2      98  Daily Kos  Abbreviated Pundit Round-up:     Angry does no...   \n",
       "3      99  Daily Kos                     Sunday Talk: Haters gonna hate   \n",
       "4     100  Daily Kos  Gore on fire: Says humans treating atmosphere ...   \n",
       "\n",
       "                                         doc_content    doc_date  \\\n",
       "0  Income and wealth inequality is a festering wo...  11/03/2013   \n",
       "1  The virulent meme spread across our nation wit...  11/03/2013   \n",
       "2  Chrystia Freeland sees a fight that's not not ...  11/03/2013   \n",
       "3  No doubt, the bestest thing about America is o...  11/03/2013   \n",
       "4  About time Al Gore has been everywhere lately....  11/03/2013   \n",
       "\n",
       "                                             doc_url  \\\n",
       "0  http://feeds.dailykos.com/~r/dailykos/index/~3...   \n",
       "1  http://feeds.dailykos.com/~r/dailykos/index/~3...   \n",
       "2  http://feeds.dailykos.com/~r/dailykos/index/~3...   \n",
       "3  http://feeds.dailykos.com/~r/dailykos/index/~3...   \n",
       "4  http://feeds.dailykos.com/~r/dailykos/index/~3...   \n",
       "\n",
       "                                            articles  \n",
       "0  But how strong is the correlation between fall...  \n",
       "1  The virulent meme spread across our nation wit...  \n",
       "2  Why are the plutocrats, with their great wealt...  \n",
       "3  Unfortunately for Barack Obama, a growing numb...  \n",
       "4  Al Gore has been everywhere lately. Just last ...  "
      ]
     },
     "execution_count": 30,
     "metadata": {},
     "output_type": "execute_result"
    }
   ],
   "source": [
    "dailykos.head()"
   ]
  },
  {
   "cell_type": "code",
   "execution_count": 31,
   "metadata": {},
   "outputs": [],
   "source": [
    "dailykos.to_csv('dailykos.csv')"
   ]
  },
  {
   "cell_type": "code",
   "execution_count": 62,
   "metadata": {},
   "outputs": [],
   "source": [
    "articles = pd.Series(articles)\n",
    "#articles = articles.to_list()"
   ]
  },
  {
   "cell_type": "code",
   "execution_count": 63,
   "metadata": {},
   "outputs": [],
   "source": [
    "articles.to_csv('articles.csv')"
   ]
  },
  {
   "cell_type": "code",
   "execution_count": 60,
   "metadata": {},
   "outputs": [],
   "source": [
    "realclear['articles'] = articles"
   ]
  },
  {
   "cell_type": "code",
   "execution_count": 65,
   "metadata": {},
   "outputs": [],
   "source": [
    "realclear.to_csv('realclear.csv')"
   ]
  },
  {
   "cell_type": "code",
   "execution_count": null,
   "metadata": {},
   "outputs": [],
   "source": []
  }
 ],
 "metadata": {
  "kernelspec": {
   "display_name": "Python 3",
   "language": "python",
   "name": "python3"
  },
  "language_info": {
   "codemirror_mode": {
    "name": "ipython",
    "version": 3
   },
   "file_extension": ".py",
   "mimetype": "text/x-python",
   "name": "python",
   "nbconvert_exporter": "python",
   "pygments_lexer": "ipython3",
   "version": "3.7.5"
  }
 },
 "nbformat": 4,
 "nbformat_minor": 4
}
