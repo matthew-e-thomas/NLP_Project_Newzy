{
 "cells": [
  {
   "cell_type": "code",
   "execution_count": 1,
   "metadata": {},
   "outputs": [],
   "source": [
    "import pandas as pd"
   ]
  },
  {
   "cell_type": "code",
   "execution_count": 7,
   "metadata": {},
   "outputs": [],
   "source": [
    "LIB = pd.read_csv('LIBRARY.csv')"
   ]
  },
  {
   "cell_type": "code",
   "execution_count": 8,
   "metadata": {},
   "outputs": [
    {
     "data": {
      "text/html": [
       "<div>\n",
       "<style scoped>\n",
       "    .dataframe tbody tr th:only-of-type {\n",
       "        vertical-align: middle;\n",
       "    }\n",
       "\n",
       "    .dataframe tbody tr th {\n",
       "        vertical-align: top;\n",
       "    }\n",
       "\n",
       "    .dataframe thead th {\n",
       "        text-align: right;\n",
       "    }\n",
       "</style>\n",
       "<table border=\"1\" class=\"dataframe\">\n",
       "  <thead>\n",
       "    <tr style=\"text-align: right;\">\n",
       "      <th></th>\n",
       "      <th>doc_source</th>\n",
       "      <th>doc_id</th>\n",
       "      <th>doc_title</th>\n",
       "      <th>doc_content</th>\n",
       "      <th>doc_date</th>\n",
       "      <th>doc_url</th>\n",
       "    </tr>\n",
       "  </thead>\n",
       "  <tbody>\n",
       "    <tr>\n",
       "      <th>0</th>\n",
       "      <td>PowerLine</td>\n",
       "      <td>48</td>\n",
       "      <td>These Zins Are a Dusi</td>\n",
       "      <td>I’ve been falling behind on many regular feat...</td>\n",
       "      <td>11/03/2013</td>\n",
       "      <td>http://feeds.powerlineblog.com/~r/powerlineblo...</td>\n",
       "    </tr>\n",
       "    <tr>\n",
       "      <th>1</th>\n",
       "      <td>PowerLine</td>\n",
       "      <td>49</td>\n",
       "      <td>NY Times Editorial Board Hacked by The Onion</td>\n",
       "      <td>At least I think it was the Onion. Someone, a...</td>\n",
       "      <td>11/03/2013</td>\n",
       "      <td>http://feeds.powerlineblog.com/~r/powerlineblo...</td>\n",
       "    </tr>\n",
       "    <tr>\n",
       "      <th>2</th>\n",
       "      <td>PowerLine</td>\n",
       "      <td>50</td>\n",
       "      <td>The line Obama crossed</td>\n",
       "      <td>Obamacare was enacted on a foundational set o...</td>\n",
       "      <td>11/03/2013</td>\n",
       "      <td>http://feeds.powerlineblog.com/~r/powerlineblo...</td>\n",
       "    </tr>\n",
       "    <tr>\n",
       "      <th>3</th>\n",
       "      <td>PowerLine</td>\n",
       "      <td>51</td>\n",
       "      <td>Sham/Wow</td>\n",
       "      <td>It’s unfair to compare and contrast Barack Ob...</td>\n",
       "      <td>11/03/2013</td>\n",
       "      <td>http://feeds.powerlineblog.com/~r/powerlineblo...</td>\n",
       "    </tr>\n",
       "    <tr>\n",
       "      <th>4</th>\n",
       "      <td>PowerLine</td>\n",
       "      <td>52</td>\n",
       "      <td>A Quarterback Controversy With a Political Twist?</td>\n",
       "      <td>Public Policy Polling ran a survey here in Mi...</td>\n",
       "      <td>11/03/2013</td>\n",
       "      <td>http://feeds.powerlineblog.com/~r/powerlineblo...</td>\n",
       "    </tr>\n",
       "  </tbody>\n",
       "</table>\n",
       "</div>"
      ],
      "text/plain": [
       "  doc_source  doc_id                                          doc_title  \\\n",
       "0  PowerLine      48                              These Zins Are a Dusi   \n",
       "1  PowerLine      49       NY Times Editorial Board Hacked by The Onion   \n",
       "2  PowerLine      50                             The line Obama crossed   \n",
       "3  PowerLine      51                                           Sham/Wow   \n",
       "4  PowerLine      52  A Quarterback Controversy With a Political Twist?   \n",
       "\n",
       "                                         doc_content    doc_date  \\\n",
       "0   I’ve been falling behind on many regular feat...  11/03/2013   \n",
       "1   At least I think it was the Onion. Someone, a...  11/03/2013   \n",
       "2   Obamacare was enacted on a foundational set o...  11/03/2013   \n",
       "3   It’s unfair to compare and contrast Barack Ob...  11/03/2013   \n",
       "4   Public Policy Polling ran a survey here in Mi...  11/03/2013   \n",
       "\n",
       "                                             doc_url  \n",
       "0  http://feeds.powerlineblog.com/~r/powerlineblo...  \n",
       "1  http://feeds.powerlineblog.com/~r/powerlineblo...  \n",
       "2  http://feeds.powerlineblog.com/~r/powerlineblo...  \n",
       "3  http://feeds.powerlineblog.com/~r/powerlineblo...  \n",
       "4  http://feeds.powerlineblog.com/~r/powerlineblo...  "
      ]
     },
     "execution_count": 8,
     "metadata": {},
     "output_type": "execute_result"
    }
   ],
   "source": [
    "LIB.head()"
   ]
  },
  {
   "cell_type": "code",
   "execution_count": 9,
   "metadata": {},
   "outputs": [],
   "source": [
    "newzy_corpus = LIB[['doc_id', 'doc_source', 'doc_content']]"
   ]
  },
  {
   "cell_type": "code",
   "execution_count": 13,
   "metadata": {},
   "outputs": [],
   "source": [
    "import os\n",
    "os.chdir('../FinalProject/mazo/corpus')"
   ]
  },
  {
   "cell_type": "code",
   "execution_count": 15,
   "metadata": {},
   "outputs": [],
   "source": [
    "newzy_corpus.to_csv('newzy-corpus.csv')"
   ]
  },
  {
   "cell_type": "code",
   "execution_count": null,
   "metadata": {},
   "outputs": [],
   "source": []
  }
 ],
 "metadata": {
  "kernelspec": {
   "display_name": "Python 3",
   "language": "python",
   "name": "python3"
  },
  "language_info": {
   "codemirror_mode": {
    "name": "ipython",
    "version": 3
   },
   "file_extension": ".py",
   "mimetype": "text/x-python",
   "name": "python",
   "nbconvert_exporter": "python",
   "pygments_lexer": "ipython3",
   "version": "3.7.6"
  }
 },
 "nbformat": 4,
 "nbformat_minor": 4
}
