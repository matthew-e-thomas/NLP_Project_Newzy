{
 "cells": [
  {
   "cell_type": "code",
   "execution_count": 1,
   "metadata": {},
   "outputs": [],
   "source": [
    "import pandas as pd"
   ]
  },
  {
   "cell_type": "code",
   "execution_count": 2,
   "metadata": {},
   "outputs": [
    {
     "name": "stderr",
     "output_type": "stream",
     "text": [
      "/Users/matthewthomas/anaconda3/lib/python3.7/site-packages/numpy/lib/arraysetops.py:569: FutureWarning: elementwise comparison failed; returning scalar instead, but in the future will perform elementwise comparison\n",
      "  mask |= (ar1 == a)\n"
     ]
    }
   ],
   "source": [
    "newzy = pd.read_csv('../FinalProject/newzy.csv', sep='|', index_col='doc_id')"
   ]
  },
  {
   "cell_type": "code",
   "execution_count": 3,
   "metadata": {},
   "outputs": [
    {
     "data": {
      "text/html": [
       "<div>\n",
       "<style scoped>\n",
       "    .dataframe tbody tr th:only-of-type {\n",
       "        vertical-align: middle;\n",
       "    }\n",
       "\n",
       "    .dataframe tbody tr th {\n",
       "        vertical-align: top;\n",
       "    }\n",
       "\n",
       "    .dataframe thead th {\n",
       "        text-align: right;\n",
       "    }\n",
       "</style>\n",
       "<table border=\"1\" class=\"dataframe\">\n",
       "  <thead>\n",
       "    <tr style=\"text-align: right;\">\n",
       "      <th></th>\n",
       "      <th>doc_title</th>\n",
       "      <th>doc_content</th>\n",
       "      <th>doc_date</th>\n",
       "      <th>doc_url</th>\n",
       "    </tr>\n",
       "    <tr>\n",
       "      <th>doc_source</th>\n",
       "      <th></th>\n",
       "      <th></th>\n",
       "      <th></th>\n",
       "      <th></th>\n",
       "    </tr>\n",
       "  </thead>\n",
       "  <tbody>\n",
       "    <tr>\n",
       "      <th>Breitbart</th>\n",
       "      <td>10012</td>\n",
       "      <td>10011</td>\n",
       "      <td>10012</td>\n",
       "      <td>10012</td>\n",
       "    </tr>\n",
       "    <tr>\n",
       "      <th>CNN</th>\n",
       "      <td>38011</td>\n",
       "      <td>36184</td>\n",
       "      <td>38011</td>\n",
       "      <td>38011</td>\n",
       "    </tr>\n",
       "    <tr>\n",
       "      <th>Daily Kos</th>\n",
       "      <td>12310</td>\n",
       "      <td>12307</td>\n",
       "      <td>12310</td>\n",
       "      <td>12310</td>\n",
       "    </tr>\n",
       "    <tr>\n",
       "      <th>Drudge Report</th>\n",
       "      <td>77063</td>\n",
       "      <td>77063</td>\n",
       "      <td>77063</td>\n",
       "      <td>77063</td>\n",
       "    </tr>\n",
       "    <tr>\n",
       "      <th>Fox</th>\n",
       "      <td>83415</td>\n",
       "      <td>58077</td>\n",
       "      <td>83417</td>\n",
       "      <td>83417</td>\n",
       "    </tr>\n",
       "    <tr>\n",
       "      <th>Google News</th>\n",
       "      <td>64079</td>\n",
       "      <td>64079</td>\n",
       "      <td>64079</td>\n",
       "      <td>64078</td>\n",
       "    </tr>\n",
       "    <tr>\n",
       "      <th>Guardian</th>\n",
       "      <td>12392</td>\n",
       "      <td>12392</td>\n",
       "      <td>12392</td>\n",
       "      <td>12392</td>\n",
       "    </tr>\n",
       "    <tr>\n",
       "      <th>NPR</th>\n",
       "      <td>30755</td>\n",
       "      <td>24708</td>\n",
       "      <td>30755</td>\n",
       "      <td>30755</td>\n",
       "    </tr>\n",
       "    <tr>\n",
       "      <th>New York Times</th>\n",
       "      <td>21239</td>\n",
       "      <td>21145</td>\n",
       "      <td>21240</td>\n",
       "      <td>21240</td>\n",
       "    </tr>\n",
       "    <tr>\n",
       "      <th>Politico Magazine</th>\n",
       "      <td>3670</td>\n",
       "      <td>3324</td>\n",
       "      <td>3670</td>\n",
       "      <td>3670</td>\n",
       "    </tr>\n",
       "    <tr>\n",
       "      <th>PowerLine</th>\n",
       "      <td>9730</td>\n",
       "      <td>9730</td>\n",
       "      <td>9730</td>\n",
       "      <td>9730</td>\n",
       "    </tr>\n",
       "    <tr>\n",
       "      <th>Real Clear Politics</th>\n",
       "      <td>40611</td>\n",
       "      <td>34967</td>\n",
       "      <td>40611</td>\n",
       "      <td>40611</td>\n",
       "    </tr>\n",
       "    <tr>\n",
       "      <th>Reuters</th>\n",
       "      <td>18506</td>\n",
       "      <td>18506</td>\n",
       "      <td>18506</td>\n",
       "      <td>18506</td>\n",
       "    </tr>\n",
       "    <tr>\n",
       "      <th>UPI Latest</th>\n",
       "      <td>97830</td>\n",
       "      <td>97804</td>\n",
       "      <td>97830</td>\n",
       "      <td>97830</td>\n",
       "    </tr>\n",
       "    <tr>\n",
       "      <th>US News</th>\n",
       "      <td>506364</td>\n",
       "      <td>506165</td>\n",
       "      <td>506364</td>\n",
       "      <td>506364</td>\n",
       "    </tr>\n",
       "  </tbody>\n",
       "</table>\n",
       "</div>"
      ],
      "text/plain": [
       "                     doc_title  doc_content  doc_date  doc_url\n",
       "doc_source                                                    \n",
       "Breitbart                10012        10011     10012    10012\n",
       "CNN                      38011        36184     38011    38011\n",
       "Daily Kos                12310        12307     12310    12310\n",
       "Drudge Report            77063        77063     77063    77063\n",
       "Fox                      83415        58077     83417    83417\n",
       "Google News              64079        64079     64079    64078\n",
       "Guardian                 12392        12392     12392    12392\n",
       "NPR                      30755        24708     30755    30755\n",
       "New York Times           21239        21145     21240    21240\n",
       "Politico Magazine         3670         3324      3670     3670\n",
       "PowerLine                 9730         9730      9730     9730\n",
       "Real Clear Politics      40611        34967     40611    40611\n",
       "Reuters                  18506        18506     18506    18506\n",
       "UPI Latest               97830        97804     97830    97830\n",
       "US News                 506364       506165    506364   506364"
      ]
     },
     "execution_count": 3,
     "metadata": {},
     "output_type": "execute_result"
    }
   ],
   "source": [
    "newzy.groupby('doc_source').count()"
   ]
  },
  {
   "cell_type": "code",
   "execution_count": 4,
   "metadata": {},
   "outputs": [],
   "source": [
    "filters =  [ 'Politico Magazine']"
   ]
  },
  {
   "cell_type": "code",
   "execution_count": 5,
   "metadata": {},
   "outputs": [],
   "source": [
    "newzy = newzy[newzy.doc_source.isin(filters)]"
   ]
  },
  {
   "cell_type": "code",
   "execution_count": 7,
   "metadata": {},
   "outputs": [],
   "source": [
    "pd.options.display.max_rows\n",
    "pd.set_option('display.max_colwidth', None)"
   ]
  },
  {
   "cell_type": "code",
   "execution_count": 7,
   "metadata": {},
   "outputs": [
    {
     "data": {
      "text/html": [
       "<div>\n",
       "<style scoped>\n",
       "    .dataframe tbody tr th:only-of-type {\n",
       "        vertical-align: middle;\n",
       "    }\n",
       "\n",
       "    .dataframe tbody tr th {\n",
       "        vertical-align: top;\n",
       "    }\n",
       "\n",
       "    .dataframe thead th {\n",
       "        text-align: right;\n",
       "    }\n",
       "</style>\n",
       "<table border=\"1\" class=\"dataframe\">\n",
       "  <thead>\n",
       "    <tr style=\"text-align: right;\">\n",
       "      <th></th>\n",
       "      <th>doc_source</th>\n",
       "      <th>doc_title</th>\n",
       "      <th>doc_content</th>\n",
       "      <th>doc_date</th>\n",
       "      <th>doc_url</th>\n",
       "    </tr>\n",
       "    <tr>\n",
       "      <th>doc_id</th>\n",
       "      <th></th>\n",
       "      <th></th>\n",
       "      <th></th>\n",
       "      <th></th>\n",
       "      <th></th>\n",
       "    </tr>\n",
       "  </thead>\n",
       "  <tbody>\n",
       "    <tr>\n",
       "      <th>1542</th>\n",
       "      <td>Politico Magazine</td>\n",
       "      <td>Sex in the Senate</td>\n",
       "      <td>On Jan. 1, 1943, Robert Gene Baker arrived in ...</td>\n",
       "      <td>11/19/2013</td>\n",
       "      <td>http://www.politico.com/magazine/story/2013/11...</td>\n",
       "    </tr>\n",
       "    <tr>\n",
       "      <th>1543</th>\n",
       "      <td>Politico Magazine</td>\n",
       "      <td>Why Does Barack Keep Making Weird Jokes About ...</td>\n",
       "      <td>Clinical psychologist Steven Berglas will put ...</td>\n",
       "      <td>11/19/2013</td>\n",
       "      <td>http://www.politico.com/magazine/story/2013/11...</td>\n",
       "    </tr>\n",
       "    <tr>\n",
       "      <th>1544</th>\n",
       "      <td>Politico Magazine</td>\n",
       "      <td>Free Mary Cheney!</td>\n",
       "      <td>When the House of Representatives voted to rep...</td>\n",
       "      <td>11/19/2013</td>\n",
       "      <td>http://www.politico.com/magazine/story/2013/11...</td>\n",
       "    </tr>\n",
       "    <tr>\n",
       "      <th>1545</th>\n",
       "      <td>Politico Magazine</td>\n",
       "      <td>34 Years of Getting to No with Iran</td>\n",
       "      <td>This week, world powers and Iran may well be p...</td>\n",
       "      <td>11/19/2013</td>\n",
       "      <td>http://www.politico.com/magazine/story/2013/11...</td>\n",
       "    </tr>\n",
       "    <tr>\n",
       "      <th>1546</th>\n",
       "      <td>Politico Magazine</td>\n",
       "      <td>The Tea Party's Attack on Women's Rights</td>\n",
       "      <td>Two week ago, about a third of women in Texas ...</td>\n",
       "      <td>11/19/2013</td>\n",
       "      <td>http://www.politico.com/magazine/story/2013/11...</td>\n",
       "    </tr>\n",
       "  </tbody>\n",
       "</table>\n",
       "</div>"
      ],
      "text/plain": [
       "               doc_source                                          doc_title  \\\n",
       "doc_id                                                                         \n",
       "1542    Politico Magazine                                  Sex in the Senate   \n",
       "1543    Politico Magazine  Why Does Barack Keep Making Weird Jokes About ...   \n",
       "1544    Politico Magazine                                  Free Mary Cheney!   \n",
       "1545    Politico Magazine                34 Years of Getting to No with Iran   \n",
       "1546    Politico Magazine           The Tea Party's Attack on Women's Rights   \n",
       "\n",
       "                                              doc_content    doc_date  \\\n",
       "doc_id                                                                  \n",
       "1542    On Jan. 1, 1943, Robert Gene Baker arrived in ...  11/19/2013   \n",
       "1543    Clinical psychologist Steven Berglas will put ...  11/19/2013   \n",
       "1544    When the House of Representatives voted to rep...  11/19/2013   \n",
       "1545    This week, world powers and Iran may well be p...  11/19/2013   \n",
       "1546    Two week ago, about a third of women in Texas ...  11/19/2013   \n",
       "\n",
       "                                                  doc_url  \n",
       "doc_id                                                     \n",
       "1542    http://www.politico.com/magazine/story/2013/11...  \n",
       "1543    http://www.politico.com/magazine/story/2013/11...  \n",
       "1544    http://www.politico.com/magazine/story/2013/11...  \n",
       "1545    http://www.politico.com/magazine/story/2013/11...  \n",
       "1546    http://www.politico.com/magazine/story/2013/11...  "
      ]
     },
     "execution_count": 7,
     "metadata": {},
     "output_type": "execute_result"
    }
   ],
   "source": [
    "newzy.head()\n"
   ]
  },
  {
   "cell_type": "code",
   "execution_count": 10,
   "metadata": {},
   "outputs": [
    {
     "data": {
      "text/plain": [
       "count     3324.000000\n",
       "mean       268.704272\n",
       "std       1706.042635\n",
       "min          7.000000\n",
       "25%         82.000000\n",
       "50%        106.000000\n",
       "75%        134.000000\n",
       "max      34783.000000\n",
       "Name: doc_content, dtype: float64"
      ]
     },
     "execution_count": 10,
     "metadata": {},
     "output_type": "execute_result"
    }
   ],
   "source": [
    "newzy['doc_content'].str.len().describe()"
   ]
  },
  {
   "cell_type": "code",
   "execution_count": 8,
   "metadata": {},
   "outputs": [],
   "source": [
    "newzy_filtered = newzy[newzy['doc_content'].str.len() > 1000]"
   ]
  },
  {
   "cell_type": "code",
   "execution_count": 9,
   "metadata": {},
   "outputs": [
    {
     "data": {
      "text/plain": [
       "44"
      ]
     },
     "execution_count": 9,
     "metadata": {},
     "output_type": "execute_result"
    }
   ],
   "source": [
    "len(newzy_filtered)"
   ]
  },
  {
   "cell_type": "code",
   "execution_count": null,
   "metadata": {},
   "outputs": [],
   "source": []
  }
 ],
 "metadata": {
  "kernelspec": {
   "display_name": "Python 3",
   "language": "python",
   "name": "python3"
  },
  "language_info": {
   "codemirror_mode": {
    "name": "ipython",
    "version": 3
   },
   "file_extension": ".py",
   "mimetype": "text/x-python",
   "name": "python",
   "nbconvert_exporter": "python",
   "pygments_lexer": "ipython3",
   "version": "3.7.5"
  }
 },
 "nbformat": 4,
 "nbformat_minor": 4
}
